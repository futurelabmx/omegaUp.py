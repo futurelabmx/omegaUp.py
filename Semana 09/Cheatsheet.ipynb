{
  "nbformat": 4,
  "nbformat_minor": 0,
  "metadata": {
    "colab": {
      "name": "Cheatsheet.ipynb",
      "provenance": []
    },
    "kernelspec": {
      "name": "python3",
      "display_name": "Python 3"
    }
  },
  "cells": [
    {
      "cell_type": "markdown",
      "metadata": {
        "id": "3tePRtsqfkt9",
        "colab_type": "text"
      },
      "source": [
        "# Sesión 9: stdlib math 🚀\n",
        "\n",
        "<img src=\"https://futurelab.mx/images/futurelab-landscape.png\" alt=\"Drawing\" width=\"30%\"/> \\\\\n",
        "Índice:\n",
        "1. Introducción.\n",
        "2. Funciones numéricas\n",
        "3. Funciones trigonométricas\n",
        "4. Funciones angulares\n",
        "5. Funciones hiperbólicas\n",
        "6. Funciones speciales\n",
        "7. Constantes\n",
        "8. Funciones logarítmicas\n",
        "\n"
      ]
    },
    {
      "cell_type": "markdown",
      "metadata": {
        "id": "l8tuFR2PgXjP",
        "colab_type": "text"
      },
      "source": [
        "# Introducción\n",
        "\n",
        "Stdlib es la contracción de standard library. La _Python Standard Library_ es una librería muuuuy (muy. muy.) extensa que contiene un amplio rango de facilidades. En este caso, nos centraremos en el apartado de math. \n",
        "\n",
        "El módulo de math nos da acceso a las funciones matemáticas definidas por el estándar de C.\n",
        "\n",
        "Pequeña sidenote, estas funciones no pueden ser usadas con números complejos, para ese caso, ir al módulo cmath.\n",
        "\n",
        "Ahora sí, vamos a las funciones"
      ]
    },
    {
      "cell_type": "markdown",
      "metadata": {
        "id": "MI0ky3IYhP0E",
        "colab_type": "text"
      },
      "source": [
        "# Funciones numéricas"
      ]
    },
    {
      "cell_type": "markdown",
      "metadata": {
        "id": "7y_2ieX2hTHV",
        "colab_type": "text"
      },
      "source": [
        "## math.ceil y math.floor\n",
        "\n",
        "\n",
        "Estas funciones reciben como argumento un número x, y te regresan el número x redondeado (hacia arriba en el caso de ceil, y hacia abajo en el caso de floor)"
      ]
    },
    {
      "cell_type": "code",
      "metadata": {
        "id": "dD8kJ2N-gU3Y",
        "colab_type": "code",
        "colab": {}
      },
      "source": [
        "import math"
      ],
      "execution_count": null,
      "outputs": []
    },
    {
      "cell_type": "code",
      "metadata": {
        "id": "IrGSTgnGhaES",
        "colab_type": "code",
        "colab": {
          "base_uri": "https://localhost:8080/",
          "height": 34
        },
        "outputId": "ae9f9c41-fd2c-421e-b5bf-a21350737de9"
      },
      "source": [
        ""
      ],
      "execution_count": null,
      "outputs": [
        {
          "output_type": "execute_result",
          "data": {
            "text/plain": [
              "12"
            ]
          },
          "metadata": {
            "tags": []
          },
          "execution_count": 5
        }
      ]
    },
    {
      "cell_type": "markdown",
      "metadata": {
        "id": "AguBqkrLk6Ik",
        "colab_type": "text"
      },
      "source": [
        "## math.fabs\n",
        "\n",
        "Esta función recibe como argumento un valor x, y te regresa el valor absoluto de este."
      ]
    },
    {
      "cell_type": "code",
      "metadata": {
        "id": "uM2fSdjgk_y3",
        "colab_type": "code",
        "colab": {}
      },
      "source": [
        ""
      ],
      "execution_count": null,
      "outputs": []
    },
    {
      "cell_type": "markdown",
      "metadata": {
        "id": "0BhB1cJalAkU",
        "colab_type": "text"
      },
      "source": [
        "## math.factorial\n",
        "\n",
        "Esta función recibe como argumento un valor entero x, y te regresa el factorial de este número. \n",
        "\n",
        "Recordemos que el factorial de un número es:\n",
        "\n",
        "<img src=\"https://i.ytimg.com/vi/tlpEaukLhxY/maxresdefault.jpg\" alt=\"Drawing\" width=\"30%\"/> \\\\"
      ]
    },
    {
      "cell_type": "code",
      "metadata": {
        "id": "Pdpf5fU2lcPs",
        "colab_type": "code",
        "colab": {
          "base_uri": "https://localhost:8080/",
          "height": 34
        },
        "outputId": "3f925122-a0dc-47b7-88b4-6d5126f90617"
      },
      "source": [
        "3%2"
      ],
      "execution_count": null,
      "outputs": [
        {
          "output_type": "execute_result",
          "data": {
            "text/plain": [
              "1"
            ]
          },
          "metadata": {
            "tags": []
          },
          "execution_count": 8
        }
      ]
    },
    {
      "cell_type": "markdown",
      "metadata": {
        "id": "xen7xzPmmuuN",
        "colab_type": "text"
      },
      "source": [
        "## math.fsum\n",
        "\n",
        "Esta función recibe como argumento una lista, y te regresa la suma precisa de punto flotante de la suma de valores en la lista."
      ]
    },
    {
      "cell_type": "code",
      "metadata": {
        "id": "_4ga95xHm80X",
        "colab_type": "code",
        "colab": {
          "base_uri": "https://localhost:8080/",
          "height": 34
        },
        "outputId": "9de08551-dcf6-45ff-ee73-bfbe8b0a500d"
      },
      "source": [
        "math.fsum([.1,.1])"
      ],
      "execution_count": null,
      "outputs": [
        {
          "output_type": "execute_result",
          "data": {
            "text/plain": [
              "0.2"
            ]
          },
          "metadata": {
            "tags": []
          },
          "execution_count": 13
        }
      ]
    },
    {
      "cell_type": "markdown",
      "metadata": {
        "id": "CHyOPiasnDom",
        "colab_type": "text"
      },
      "source": [
        "## math.gcd\n",
        "\n",
        "Esta función recibe como argumento dos enteros, a & b, y te regresa el máximo comun divisor de ambos números"
      ]
    },
    {
      "cell_type": "code",
      "metadata": {
        "id": "PMondfmLnBaI",
        "colab_type": "code",
        "colab": {}
      },
      "source": [
        ""
      ],
      "execution_count": null,
      "outputs": []
    },
    {
      "cell_type": "markdown",
      "metadata": {
        "id": "Gd171YHknbqf",
        "colab_type": "text"
      },
      "source": [
        "## math.isclose\n",
        "\n",
        "Esta función recibe como argumentos dos valores(como mínimo), y te devuelve un True si ambos números son cercanos, y un False de lo contrario.\n",
        "\n",
        "También puede recibir como argumento la tolerancia relativa rel_tol. Por default, es 1e-09, esto es, los valores deben ser los mismos entre 9 dígitos decimales. \n",
        "\n",
        "De igual manera, otro argumento posible es abs_tol, que es la tolerancia mínima absoluta.\n",
        "\n"
      ]
    },
    {
      "cell_type": "code",
      "metadata": {
        "id": "C3ARzgtrn5kU",
        "colab_type": "code",
        "colab": {}
      },
      "source": [
        ""
      ],
      "execution_count": null,
      "outputs": []
    },
    {
      "cell_type": "markdown",
      "metadata": {
        "id": "PeBng33moTNt",
        "colab_type": "text"
      },
      "source": [
        "## math.isfinite\n",
        "\n",
        "Esta función recibe como argumento x, y regresa un True si x no es infinito o NaN (not a number), y False de lo contrario"
      ]
    },
    {
      "cell_type": "code",
      "metadata": {
        "id": "ORSManP8okBp",
        "colab_type": "code",
        "colab": {}
      },
      "source": [
        ""
      ],
      "execution_count": null,
      "outputs": []
    },
    {
      "cell_type": "markdown",
      "metadata": {
        "id": "7IUt1WMIokp9",
        "colab_type": "text"
      },
      "source": [
        "## math.isinf\n",
        "\n",
        "Esta función es parecida a lo de arriba, pero al revés. Regresa un True si x es más o menos infinito, y False de lo contrario"
      ]
    },
    {
      "cell_type": "code",
      "metadata": {
        "id": "8yCczHA9os_g",
        "colab_type": "code",
        "colab": {}
      },
      "source": [
        ""
      ],
      "execution_count": null,
      "outputs": []
    },
    {
      "cell_type": "markdown",
      "metadata": {
        "id": "ljbcScaIoy8k",
        "colab_type": "text"
      },
      "source": [
        "##math.isnan\n",
        "Esta función también es parecida a la de finito, regresa un True si su argumento es un NaN (not a number)"
      ]
    },
    {
      "cell_type": "code",
      "metadata": {
        "id": "ghQhQabro512",
        "colab_type": "code",
        "colab": {}
      },
      "source": [
        ""
      ],
      "execution_count": null,
      "outputs": []
    },
    {
      "cell_type": "markdown",
      "metadata": {
        "id": "0fm6lKt9pZnC",
        "colab_type": "text"
      },
      "source": [
        "## math.modf\n",
        "\n",
        "Recibe como argumento un número x, y regresa la parte fraccional y entera de este."
      ]
    },
    {
      "cell_type": "code",
      "metadata": {
        "id": "7xgARdYUpgVK",
        "colab_type": "code",
        "colab": {
          "base_uri": "https://localhost:8080/",
          "height": 34
        },
        "outputId": "ce1a7d81-9a47-4c61-f78e-2e6f8a71808a"
      },
      "source": [
        "import math\n",
        "math.modf(2.5)"
      ],
      "execution_count": 2,
      "outputs": [
        {
          "output_type": "execute_result",
          "data": {
            "text/plain": [
              "(0.5, 2.0)"
            ]
          },
          "metadata": {
            "tags": []
          },
          "execution_count": 2
        }
      ]
    },
    {
      "cell_type": "markdown",
      "metadata": {
        "id": "Jt2VqJWStAEo",
        "colab_type": "text"
      },
      "source": [
        "# Funciones trigonométricas"
      ]
    },
    {
      "cell_type": "markdown",
      "metadata": {
        "id": "roC1su_1uEsB",
        "colab_type": "text"
      },
      "source": [
        "## math.cos, math.sin y math.tan\n",
        "\n",
        "Estas funciones toman como argumento un valor x, en radianes, en radiantes, y regresan el valor del coseno, el seno, y la tangente de x respectivamente"
      ]
    },
    {
      "cell_type": "code",
      "metadata": {
        "id": "rWKYHCyMugGk",
        "colab_type": "code",
        "colab": {}
      },
      "source": [
        ""
      ],
      "execution_count": null,
      "outputs": []
    },
    {
      "cell_type": "markdown",
      "metadata": {
        "id": "g_M18uIFte90",
        "colab_type": "text"
      },
      "source": [
        "## math.acos, math.asin y math.atan\n",
        "\n",
        "Estas funciones toman como argumento un valor x, en radianes, en radianes, y regresan el arco-coseno, el arco-seno, y el arco-tangente de x respectivamente"
      ]
    },
    {
      "cell_type": "code",
      "metadata": {
        "id": "TaxzavTfteAy",
        "colab_type": "code",
        "colab": {}
      },
      "source": [
        ""
      ],
      "execution_count": null,
      "outputs": []
    },
    {
      "cell_type": "markdown",
      "metadata": {
        "id": "IWxWiHbcu16s",
        "colab_type": "text"
      },
      "source": [
        "## math.hypot\n",
        "\n",
        "Esta función recibe como argumento varios puntos, y te regresa la norma euclidiana de estos. \n",
        "\n",
        "Se puede ver como calcular la hipotenusa teniendo los lados de un triángulo."
      ]
    },
    {
      "cell_type": "code",
      "metadata": {
        "id": "ScVBFKwdvW1U",
        "colab_type": "code",
        "colab": {
          "base_uri": "https://localhost:8080/",
          "height": 34
        },
        "outputId": "5d082347-fc37-4312-9718-0c42a9ecf3b2"
      },
      "source": [
        "p=2\n",
        "q=4\n",
        "math.hypot(3,5)"
      ],
      "execution_count": null,
      "outputs": [
        {
          "output_type": "execute_result",
          "data": {
            "text/plain": [
              "5.830951894845301"
            ]
          },
          "metadata": {
            "tags": []
          },
          "execution_count": 30
        }
      ]
    },
    {
      "cell_type": "markdown",
      "metadata": {
        "id": "NegZ35e1wQEI",
        "colab_type": "text"
      },
      "source": [
        "# Funciones angulares"
      ]
    },
    {
      "cell_type": "markdown",
      "metadata": {
        "id": "9yWnpTwEws0C",
        "colab_type": "text"
      },
      "source": [
        "## math.degrees\n",
        "\n",
        "Recibe un valor x como argumento, en radianes, y regresa ese valor en grados"
      ]
    },
    {
      "cell_type": "code",
      "metadata": {
        "id": "v6aJvqU8wRS3",
        "colab_type": "code",
        "colab": {}
      },
      "source": [
        ""
      ],
      "execution_count": null,
      "outputs": []
    },
    {
      "cell_type": "markdown",
      "metadata": {
        "id": "CWheAgIQwzms",
        "colab_type": "text"
      },
      "source": [
        "## math.radians\n",
        "\n",
        "Recibe un valor x como argumento, en grados, y regresa ese valor en radianes"
      ]
    },
    {
      "cell_type": "code",
      "metadata": {
        "id": "8-dxFO41w2nw",
        "colab_type": "code",
        "colab": {}
      },
      "source": [
        ""
      ],
      "execution_count": null,
      "outputs": []
    },
    {
      "cell_type": "markdown",
      "metadata": {
        "id": "OugjPi1uw5mS",
        "colab_type": "text"
      },
      "source": [
        "# Funciones hiperbólicas"
      ]
    },
    {
      "cell_type": "markdown",
      "metadata": {
        "id": "KJBjpeXVxFAh",
        "colab_type": "text"
      },
      "source": [
        "## math.acosh, math.asinh, math.atanh\n",
        "\n",
        "Estas funciones toman como argumento un valor x en radianes, y te regresan el coseno hiperbólico inverso, el seno hiperbólico inverso, y la tangente hiperbólica inversa de x respectivamente"
      ]
    },
    {
      "cell_type": "code",
      "metadata": {
        "id": "zD0cxPvbxB8y",
        "colab_type": "code",
        "colab": {}
      },
      "source": [
        ""
      ],
      "execution_count": null,
      "outputs": []
    },
    {
      "cell_type": "markdown",
      "metadata": {
        "id": "XzQeqn96xnRe",
        "colab_type": "text"
      },
      "source": [
        "## math.cosh, math.sinh, math.tanh\n",
        "\n",
        "Estas funciones toman como argumento un valor x en radianes, y te regresan el coseno hiperbólico, el seno hiperbólico y la tangente hiperbólica de x respectivamente."
      ]
    },
    {
      "cell_type": "code",
      "metadata": {
        "id": "-9GEN2IUyHcj",
        "colab_type": "code",
        "colab": {}
      },
      "source": [
        ""
      ],
      "execution_count": null,
      "outputs": []
    },
    {
      "cell_type": "markdown",
      "metadata": {
        "id": "OuuscHKpyJoN",
        "colab_type": "text"
      },
      "source": [
        "# Funciones especiales"
      ]
    },
    {
      "cell_type": "markdown",
      "metadata": {
        "id": "KswhBNYLyL4l",
        "colab_type": "text"
      },
      "source": [
        "## math.erf\n",
        "\n",
        "Esta función toma como argumento un valor x, y te regresa la función error evaluada en x, siendo la función error:\n",
        "\n",
        "\n",
        "<img src=\"https://lh3.googleusercontent.com/proxy/dJpPPpvlfBmNZre_dIhpMTu8Y2wwL4iRY-XJO3F6TuHF0P4qlMfUmBx3sOXXuDIhdJrWgDp87mBjFyiUEkNYyj8YAZexnhu-XkDXLaeSEgS48No\" alt=\"Drawing\" width=\"30%\"/> \\\\\n"
      ]
    },
    {
      "cell_type": "code",
      "metadata": {
        "id": "mDN--85Gyk2G",
        "colab_type": "code",
        "colab": {}
      },
      "source": [
        ""
      ],
      "execution_count": null,
      "outputs": []
    },
    {
      "cell_type": "markdown",
      "metadata": {
        "id": "CoEh1a9FzOKl",
        "colab_type": "text"
      },
      "source": [
        "## math.gamma\n",
        "\n",
        "Esta función toma como argumento un valor x, y te regresa la función gamma evaluada en x, siendo la función gamma:\n",
        "\n",
        "<img src=\"https://i.ytimg.com/vi/bycH8aNt9e8/maxresdefault.jpg\" alt=\"Drawing\" width=\"70%\"/> \\\\"
      ]
    },
    {
      "cell_type": "code",
      "metadata": {
        "id": "gWaVDCccznXn",
        "colab_type": "code",
        "colab": {}
      },
      "source": [
        ""
      ],
      "execution_count": null,
      "outputs": []
    },
    {
      "cell_type": "markdown",
      "metadata": {
        "id": "9pBG8OLUz4V8",
        "colab_type": "text"
      },
      "source": [
        "# Constantes"
      ]
    },
    {
      "cell_type": "markdown",
      "metadata": {
        "id": "mG9SZIn6z5hP",
        "colab_type": "text"
      },
      "source": [
        "## math.pi, math.e\n",
        "\n",
        "Regresa el número pi y el número de euler"
      ]
    },
    {
      "cell_type": "code",
      "metadata": {
        "id": "29QKE-cc0B7Q",
        "colab_type": "code",
        "colab": {}
      },
      "source": [
        ""
      ],
      "execution_count": null,
      "outputs": []
    },
    {
      "cell_type": "markdown",
      "metadata": {
        "id": "ZfabQ3HO0Ny_",
        "colab_type": "text"
      },
      "source": [
        "## math.inf\n",
        "\n",
        "Regresa un infinito positivo de punto flotante"
      ]
    },
    {
      "cell_type": "code",
      "metadata": {
        "id": "Otv3obJo0RJT",
        "colab_type": "code",
        "colab": {}
      },
      "source": [
        ""
      ],
      "execution_count": null,
      "outputs": []
    },
    {
      "cell_type": "markdown",
      "metadata": {
        "id": "mcSCYCml0Ri0",
        "colab_type": "text"
      },
      "source": [
        "## math.nan\n",
        "\n",
        "Regresa un valor NaN (not a number) de punto flotante "
      ]
    },
    {
      "cell_type": "code",
      "metadata": {
        "id": "RfIlyc420Wpr",
        "colab_type": "code",
        "colab": {}
      },
      "source": [
        ""
      ],
      "execution_count": null,
      "outputs": []
    },
    {
      "cell_type": "markdown",
      "metadata": {
        "id": "KLlyT0lf0hx5",
        "colab_type": "text"
      },
      "source": [
        "# Funciones logarítmicas y exponenciales"
      ]
    },
    {
      "cell_type": "markdown",
      "metadata": {
        "id": "4HSUhHz-0kmC",
        "colab_type": "text"
      },
      "source": [
        "## math.exp\n",
        "\n",
        "Esta función toma como argumento un número x, y regresa el número de euler evaluado a la x."
      ]
    },
    {
      "cell_type": "code",
      "metadata": {
        "id": "wdJDeDLM0rVo",
        "colab_type": "code",
        "colab": {}
      },
      "source": [
        ""
      ],
      "execution_count": null,
      "outputs": []
    },
    {
      "cell_type": "markdown",
      "metadata": {
        "id": "ZcNU14tB0x-i",
        "colab_type": "text"
      },
      "source": [
        "## math.log\n",
        "\n",
        "Esta función toma uno o dos argumentos. \n",
        "\n",
        "Con un argumento x, regresa el logaritmo natural de x.\n",
        "\n",
        "Con dos argumentos, x & y, regresa el logaritmo de x base y"
      ]
    },
    {
      "cell_type": "code",
      "metadata": {
        "id": "6mwTkwsV0-kt",
        "colab_type": "code",
        "colab": {}
      },
      "source": [
        ""
      ],
      "execution_count": null,
      "outputs": []
    },
    {
      "cell_type": "markdown",
      "metadata": {
        "id": "iHKS6gaI1jTG",
        "colab_type": "text"
      },
      "source": [
        "## math.pow\n",
        "\n",
        "Esta función toma como argumento dos números, x & y, y regresa a x elevado a la y."
      ]
    },
    {
      "cell_type": "code",
      "metadata": {
        "id": "snexCOe11szT",
        "colab_type": "code",
        "colab": {}
      },
      "source": [
        ""
      ],
      "execution_count": null,
      "outputs": []
    },
    {
      "cell_type": "markdown",
      "metadata": {
        "id": "Aw-_60Ex12OC",
        "colab_type": "text"
      },
      "source": [
        "## math.sqrt\n",
        "\n",
        "Esta función toma como argumento un número x, y regresa la raiz cuadrada de x."
      ]
    },
    {
      "cell_type": "code",
      "metadata": {
        "id": "xcs0OzXU15mm",
        "colab_type": "code",
        "colab": {}
      },
      "source": [
        ""
      ],
      "execution_count": null,
      "outputs": []
    }
  ]
}