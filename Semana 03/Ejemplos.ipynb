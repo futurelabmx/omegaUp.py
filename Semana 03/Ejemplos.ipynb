{
  "nbformat": 4,
  "nbformat_minor": 0,
  "metadata": {
    "colab": {
      "name": "Ejemplos de listas.ipynb",
      "provenance": [],
      "collapsed_sections": []
    },
    "kernelspec": {
      "name": "python3",
      "display_name": "Python 3"
    }
  },
  "cells": [
    {
      "cell_type": "markdown",
      "metadata": {
        "id": "GS61TG41Tlo9",
        "colab_type": "text"
      },
      "source": [
        "# Listas\n",
        "- Las listas son secuencias ordenadas que pueden almacenar distintos tipos de objetos.\n",
        "- En pocas palabras, es como una variable que puede almacenar muchas cosas wuuu.\n",
        "- Se usan **[]** para indicar que es una lista y los objetos de la lista se separan por comas.\n",
        "- Se les puede hacer **indexing** y **slicing**.\n",
        "- Tienen **métodos** bastante útiles.\n"
      ]
    },
    {
      "cell_type": "code",
      "metadata": {
        "id": "Dv2P0hT-Tgor",
        "colab_type": "code",
        "colab": {}
      },
      "source": [
        "# Ejemplos de listas:\n",
        "# Lista de números enteros\n",
        "enteros = \n",
        "print(enteros)\n",
        "# Lista de números flotantes\n",
        "flotantes = \n",
        "print(flotantes)\n",
        "# Lista de strings\n",
        "nombres = \n",
        "print(nombres)\n",
        "# Lista mixta\n",
        "mixta = \n",
        "print(mixta)"
      ],
      "execution_count": null,
      "outputs": []
    },
    {
      "cell_type": "markdown",
      "metadata": {
        "id": "BvtHQJaZauUa",
        "colab_type": "text"
      },
      "source": [
        "## Indexing y Slicing"
      ]
    },
    {
      "cell_type": "code",
      "metadata": {
        "id": "mmHtT3eRaqAg",
        "colab_type": "code",
        "colab": {}
      },
      "source": [
        "# Indexing\n",
        "lista_random = [\"CdC\", 2, 3.3, \"Hola\", \"Bubu\", 5, \"Laura\"]\n",
        "# Imprimimos el primer elemento\n",
        "print()\n",
        "# También lo podemos guardar en otra variable si es necesario\n",
        "primer_elemento =\n",
        "print(primer_elemento)\n",
        "# Podemos modificar las listas con esto:\n",
        "lista_random[4] ="
      ],
      "execution_count": null,
      "outputs": []
    },
    {
      "cell_type": "code",
      "metadata": {
        "id": "v4_sIBxSfxXz",
        "colab_type": "code",
        "colab": {}
      },
      "source": [
        "# Slicing\n",
        "# Imprimir los primeros dos números\n",
        "print()\n",
        "# Guardar en una variable\n",
        "otra_lista =\n",
        "# Podemos agarrar solo los índices pares\n",
        "numeros = [1,2,3,4,5,6,7,8,9,10]\n",
        "impares =\n",
        "print(impares)\n",
        "# O voltearlos\n",
        "voltiao = \n",
        "print(voltiao)"
      ],
      "execution_count": null,
      "outputs": []
    },
    {
      "cell_type": "code",
      "metadata": {
        "id": "9fYx14chhD0F",
        "colab_type": "code",
        "colab": {}
      },
      "source": [
        "# Podemos sumar listas en Python (Concatenación)\n",
        "lista1 = \n",
        "lista2 = \n",
        "lista3 =\n",
        "print(lista)"
      ],
      "execution_count": null,
      "outputs": []
    },
    {
      "cell_type": "markdown",
      "metadata": {
        "id": "S87MaFKGa-La",
        "colab_type": "text"
      },
      "source": [
        "## Algunas funciones y métodos útiles."
      ]
    },
    {
      "cell_type": "code",
      "metadata": {
        "id": "8T2LUBORbB0U",
        "colab_type": "code",
        "colab": {}
      },
      "source": [
        "# len()\n",
        "bubu_lista = \n",
        "# Muchas veces vamos a necesitar el tamaño de nuestra lista, eso se hace con len()\n",
        "n =\n",
        "print(n)"
      ],
      "execution_count": null,
      "outputs": []
    },
    {
      "cell_type": "code",
      "metadata": {
        "id": "rE1lcwRXiUOp",
        "colab_type": "code",
        "colab": {}
      },
      "source": [
        "# sum()\n",
        "bubu_numeros = \n",
        "# Si queremos obtener la suma de todos los elementos de la lista usamos sum()\n",
        "suma = \n",
        "print(suma)"
      ],
      "execution_count": null,
      "outputs": []
    },
    {
      "cell_type": "code",
      "metadata": {
        "id": "OlJ7AaI8iuPZ",
        "colab_type": "code",
        "colab": {}
      },
      "source": [
        "# Esto es un error, no se pueden sumar las cadenas con esta función.\n",
        "new_list = [\"Hola\", 2]\n",
        "sum(new_list)"
      ],
      "execution_count": null,
      "outputs": []
    },
    {
      "cell_type": "markdown",
      "metadata": {
        "id": "IbA_fzszkMBK",
        "colab_type": "text"
      },
      "source": [
        "## Agregar elementos a una lista."
      ]
    },
    {
      "cell_type": "code",
      "metadata": {
        "id": "akBzljJBix7k",
        "colab_type": "code",
        "colab": {}
      },
      "source": [
        "lista = [\"CdC\", 2, 3.3, \"Hola\", \"Bubu\", 5, \"Laura\"]\n",
        "# Append\n",
        "# Insert"
      ],
      "execution_count": null,
      "outputs": []
    },
    {
      "cell_type": "markdown",
      "metadata": {
        "id": "b2nw_liXlnmC",
        "colab_type": "text"
      },
      "source": [
        "## Eliminando cosas de una lista"
      ]
    },
    {
      "cell_type": "code",
      "metadata": {
        "id": "g4kblfNJlmi0",
        "colab_type": "code",
        "colab": {}
      },
      "source": [
        "# Pop\n",
        "lista.pop()\n",
        "print(lista)\n",
        "# Podemos guardar lo que pop nos regresa\n",
        "item_eliminado = lista.pop()\n",
        "print(item_eliminado)\n",
        "print(lista)\n",
        "# Podemos específicar la posición del popeo\n",
        "lista.pop(1)"
      ],
      "execution_count": null,
      "outputs": []
    },
    {
      "cell_type": "markdown",
      "metadata": {
        "id": "_Hsw6NtZmmBq",
        "colab_type": "text"
      },
      "source": [
        "## Ordenar cosas"
      ]
    },
    {
      "cell_type": "code",
      "metadata": {
        "id": "kFi-biA_mjPF",
        "colab_type": "code",
        "colab": {}
      },
      "source": [
        "numeros = [1, 5, 2, 9, 10, 8, 5]\n",
        "letras = ['x', 'a', 'b', 'y', 'u']\n",
        "# sort() NO REGRESA NADA"
      ],
      "execution_count": null,
      "outputs": []
    },
    {
      "cell_type": "markdown",
      "metadata": {
        "id": "YeAAGWNIoviK",
        "colab_type": "text"
      },
      "source": [
        "# Tuplas\n",
        "- Las tuplas son parecidas a las listas. \n",
        "- Se diferencían en que las tuplas son inmutables. Es decir, una vez que un elemento está dentro de una tupla, no puede ser reasignada.\n",
        "- Usan paréntesis **()**"
      ]
    },
    {
      "cell_type": "code",
      "metadata": {
        "id": "JRIDplrmouRD",
        "colab_type": "code",
        "colab": {}
      },
      "source": [
        "# Ejemplo\n",
        "tupla = (1,2,3,4,5)\n",
        "lista = [1,2,3,4,5]\n",
        "# Las listas sí se pueden modificar\n",
        "lista[] = \n",
        "print(lista)\n",
        "# Pero las tuplas no\n",
        "tupla[] ="
      ],
      "execution_count": null,
      "outputs": []
    },
    {
      "cell_type": "code",
      "metadata": {
        "id": "K5gdLmiO8Vlv",
        "colab_type": "code",
        "colab": {}
      },
      "source": [
        "# Aún así, podemos hacer indexing o slicing\n",
        "print(tupla[-1])\n",
        "print(tupla[::2])\n",
        "# Y realmente todo lo que hacen con listas se puede hacer con tuplas"
      ],
      "execution_count": null,
      "outputs": []
    },
    {
      "cell_type": "markdown",
      "metadata": {
        "id": "nFF-_vRw8882",
        "colab_type": "text"
      },
      "source": [
        "## Count() e Index()"
      ]
    },
    {
      "cell_type": "code",
      "metadata": {
        "id": "6OVxY8zt8BYg",
        "colab_type": "code",
        "colab": {}
      },
      "source": [
        "t = ('Bubu', 'Laura', 'Missa', 'Bubu')\n",
        "# .count()\n",
        "# .index"
      ],
      "execution_count": null,
      "outputs": []
    },
    {
      "cell_type": "markdown",
      "metadata": {
        "id": "bEs3TFPVJfWT",
        "colab_type": "text"
      },
      "source": [
        "# Diccionarios"
      ]
    },
    {
      "cell_type": "code",
      "metadata": {
        "id": "v6SJFasP9MKV",
        "colab_type": "code",
        "colab": {
          "base_uri": "https://localhost:8080/",
          "height": 52
        },
        "outputId": "9abbf65d-5460-4960-aa17-3900f3100aac"
      },
      "source": [
        "# Creemos un diccionario simple\n",
        "diccionario = {\"key1\":\"value1\", \"key2\":\"value2\"}\n",
        "# Una manera más \"bonita\" de crear diccionarios\n",
        "diccionario = {\n",
        "    \"key1\":\"value1\",\n",
        "    \"key2\":\"value2\"\n",
        "}\n",
        "print(diccionario)\n",
        "# Para agarrar valores\n",
        "print(diccionario['key1'])"
      ],
      "execution_count": null,
      "outputs": [
        {
          "output_type": "stream",
          "text": [
            "{'key1': 'value1', 'key2': 'value2'}\n",
            "value1\n"
          ],
          "name": "stdout"
        }
      ]
    },
    {
      "cell_type": "code",
      "metadata": {
        "id": "B7QJ6SeNNCl9",
        "colab_type": "code",
        "colab": {
          "base_uri": "https://localhost:8080/",
          "height": 34
        },
        "outputId": "faacaa9d-a766-4813-9c9e-b36464d6a4f7"
      },
      "source": [
        "# Las \"keys\" pueden tener el nombre que ustedes quieran y \n",
        "# los valores pueden ser cualquier objeto que ya vimos antes\n",
        "precios = {\n",
        "    \"manzana\":7,\n",
        "    \"agua\":10.5,\n",
        "    \"takis\": 12,\n",
        "    \"doritos\": 12\n",
        "}\n",
        "\n",
        "# Hey! quiero saber cuánto cuestan los taki taki rumba\n",
        "print()"
      ],
      "execution_count": null,
      "outputs": [
        {
          "output_type": "stream",
          "text": [
            "\n"
          ],
          "name": "stdout"
        }
      ]
    },
    {
      "cell_type": "code",
      "metadata": {
        "id": "0oprXqoUOV8D",
        "colab_type": "code",
        "colab": {
          "base_uri": "https://localhost:8080/",
          "height": 87
        },
        "outputId": "f59e7eba-a1cf-4240-fb0f-48a6b9fcb153"
      },
      "source": [
        "# Puedes hacer diccionarios de listas y diccionarios de diccionarios!\n",
        "d = {\n",
        "    \"k1\":[1,2,3,4],\n",
        "     \"d1\": {\"k11\":\"Hola\", \"k12\":\"Adios\"}\n",
        "}\n",
        "# Para acceder a esos datos podemos hacer lo siguiente\n",
        "print(d[\"k1\"])\n",
        "print(d[\"d1\"])\n",
        "print(d[\"k1\"][-1])\n",
        "print(d[\"d1\"][\"k12\"])\n",
        "\n",
        "# Esto es útil cuando trabajas con API's y algunas otras cosas."
      ],
      "execution_count": null,
      "outputs": [
        {
          "output_type": "stream",
          "text": [
            "[1, 2, 3, 4]\n",
            "{'k11': 'Hola', 'k12': 'Adios'}\n",
            "4\n",
            "Adios\n"
          ],
          "name": "stdout"
        }
      ]
    },
    {
      "cell_type": "markdown",
      "metadata": {
        "id": "NgRbM1iLRo9C",
        "colab_type": "text"
      },
      "source": [
        "## Agregar cosas a diccionarios"
      ]
    },
    {
      "cell_type": "code",
      "metadata": {
        "id": "0Qw6eb0DQc0o",
        "colab_type": "code",
        "colab": {
          "base_uri": "https://localhost:8080/",
          "height": 52
        },
        "outputId": "fa018577-467e-4479-bd86-08f114c8d972"
      },
      "source": [
        "# Digamos que \n",
        "d = {\"k1\":100, \"k2\":200}\n",
        "print(d)\n",
        "# Queremos meter un k3 que valta 300 por ejemplo:\n",
        "d[\"k3\"] = 300\n",
        "print(d)"
      ],
      "execution_count": null,
      "outputs": [
        {
          "output_type": "stream",
          "text": [
            "{'k1': 100, 'k2': 200}\n",
            "{'k1': 100, 'k2': 200, 'k3': 300}\n"
          ],
          "name": "stdout"
        }
      ]
    },
    {
      "cell_type": "code",
      "metadata": {
        "id": "dTuL-tLrR4Zq",
        "colab_type": "code",
        "colab": {
          "base_uri": "https://localhost:8080/",
          "height": 34
        },
        "outputId": "36651963-a549-4c8a-ff3e-0e88bae647a9"
      },
      "source": [
        "# También podemos sustiuir lo que ya teníamos\n",
        "d[\"k1\"] = \"hola\"\n",
        "print(d)"
      ],
      "execution_count": null,
      "outputs": [
        {
          "output_type": "stream",
          "text": [
            "{'k1': 'hola', 'k2': 200, 'k3': 300}\n"
          ],
          "name": "stdout"
        }
      ]
    },
    {
      "cell_type": "markdown",
      "metadata": {
        "id": "2Sj0MbrDTmKq",
        "colab_type": "text"
      },
      "source": [
        "## Métodos especiales para diccionarios"
      ]
    },
    {
      "cell_type": "code",
      "metadata": {
        "id": "a-n0Z42yTYH4",
        "colab_type": "code",
        "colab": {}
      },
      "source": [
        "# keys()\n",
        "print()\n",
        "# values()\n",
        "print()\n",
        "# items()\n",
        "print()"
      ],
      "execution_count": null,
      "outputs": []
    },
    {
      "cell_type": "markdown",
      "metadata": {
        "id": "_VFkFFNunZp2",
        "colab_type": "text"
      },
      "source": [
        "# Conjuntos"
      ]
    },
    {
      "cell_type": "code",
      "metadata": {
        "id": "fHPoFzx0nZHk",
        "colab_type": "code",
        "colab": {
          "base_uri": "https://localhost:8080/",
          "height": 34
        },
        "outputId": "d80eb77c-4f27-4c8c-f012-76e91515b04d"
      },
      "source": [
        "# Conjunto básico\n",
        "conjunto = {10,12,'a',10,'b','a'}\n",
        "# Elementos únicos\n",
        "print(conjunto)\n",
        "# Podemos ver que se imprime en un orden distinto (normal) y solo se imprimen elementos únicos."
      ],
      "execution_count": null,
      "outputs": [
        {
          "output_type": "stream",
          "text": [
            "{10, 'b', 12, 'a'}\n"
          ],
          "name": "stdout"
        }
      ]
    },
    {
      "cell_type": "code",
      "metadata": {
        "id": "aVkO70DFpYsw",
        "colab_type": "code",
        "colab": {
          "base_uri": "https://localhost:8080/",
          "height": 34
        },
        "outputId": "06e96e33-6a9d-4b91-851c-8cf0ebd40e2c"
      },
      "source": [
        "# Ejemplo: (Edades de alumnos)\n",
        "edades = [12, 12, 8, 6, 9, 8]\n",
        "edades = set(edades)\n",
        "print(edades)\n",
        "# Lo puedo volver a convertir a lista y luego ordenarlo\n",
        "# ¡Lo van a usar para un problema más adelante!"
      ],
      "execution_count": null,
      "outputs": [
        {
          "output_type": "stream",
          "text": [
            "{8, 9, 12, 6}\n"
          ],
          "name": "stdout"
        }
      ]
    },
    {
      "cell_type": "code",
      "metadata": {
        "id": "DZeqZym6qNqb",
        "colab_type": "code",
        "colab": {}
      },
      "source": [
        ""
      ],
      "execution_count": null,
      "outputs": []
    }
  ]
}