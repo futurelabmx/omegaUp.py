{
  "nbformat": 4,
  "nbformat_minor": 0,
  "metadata": {
    "colab": {
      "name": "Cheatsheet curso python.ipynb",
      "provenance": [],
      "toc_visible": true
    },
    "kernelspec": {
      "name": "python3",
      "display_name": "Python 3"
    }
  },
  "cells": [
    {
      "cell_type": "markdown",
      "metadata": {
        "id": "6n_rsaZCXoNl",
        "colab_type": "text"
      },
      "source": [
        "# Sesión 3: Control de flujo 🚀\n",
        "\n",
        "<img src=\"https://futurelab.mx/images/futurelab-landscape.png\" alt=\"Drawing\" width=\"30%\"/> \\\\\n",
        "Índice:\n",
        "1. Introducción.\n",
        "2. Indentación.\n",
        "3. Operadores relacionales\n",
        "4. Tabla de verdades\n",
        "  1. función AND\n",
        "  2. función OR\n",
        "5. Estructuras de control de flujo condicionales\n",
        "6. Estructuras de control de flujo iterativas\n",
        "\n",
        "\n"
      ]
    },
    {
      "cell_type": "markdown",
      "metadata": {
        "id": "XgYISxzHe7Pt",
        "colab_type": "text"
      },
      "source": [
        "# Introducción\n",
        "\n",
        "Una estructura de control de flujo es un bloque de código que permite agrupar varias instrucciones de manera controlada.\n",
        "Podemos ver esto como si nuestro código fuera agua que fluye en una tubería. Pero a veces necesitamos un punto de control en la tubería, algo que separe el flujo en dos ramas si el flujo es muy grande, o algo que se abra cuando se llegue a una cierta presión, etc. \n",
        "Estas estructuras nos sirven para que nuestro código no sea una línea recta, si no que tenga muchas más funcionalidades.\n",
        " Hablaremos principalmente sobre dos:\n",
        "* Estructuras de control condicionales\n",
        "* Estructuras de control iterativas\n",
        "\n",
        "Pero antes de ver esto, necesitamos ver algunos conceptos anteriores"
      ]
    },
    {
      "cell_type": "markdown",
      "metadata": {
        "id": "ahkeUMWkgWPC",
        "colab_type": "text"
      },
      "source": [
        "# Indentación\n",
        "\n",
        "Una característica cool de Python es que no trabaja con {}, para aquellos familiarizados con otros lenguajes de programación, usualmente el \"contenido\" de un ciclo o de un condicional se marca con {}, python lo hace con el uso de dos puntos (:) e indentación (sangría o espacios), veamos el siguiente ejemplo\n",
        "\n"
      ]
    },
    {
      "cell_type": "code",
      "metadata": {
        "id": "xQLjt1Y8jdW1",
        "colab_type": "code",
        "colab": {}
      },
      "source": [
        "i= 1\n",
        "if i==1:\n",
        "  pass"
      ],
      "execution_count": 0,
      "outputs": []
    },
    {
      "cell_type": "markdown",
      "metadata": {
        "id": "0HgeEBRwj6GI",
        "colab_type": "text"
      },
      "source": [
        "Podemos observar que la estructura es de la siguiente manera:\n",
        "\n",
        "    inicio de la estructura de control:\n",
        "      expresiones"
      ]
    },
    {
      "cell_type": "markdown",
      "metadata": {
        "id": "ilasUHK3kfRY",
        "colab_type": "text"
      },
      "source": [
        "Estas indentaciones se pueden hacer con tabulador, o con espacios (aunque por costumbre se suele usar tabulador, pero cada quien tiene su hábito)"
      ]
    },
    {
      "cell_type": "markdown",
      "metadata": {
        "id": "ifxl2Ao3jVlk",
        "colab_type": "text"
      },
      "source": [
        "\n",
        "![meme](https://pbs.twimg.com/media/EZn_E4tWoAEcnEC?format=png&name=small)\n",
        "\n",
        "\n"
      ]
    },
    {
      "cell_type": "markdown",
      "metadata": {
        "id": "kfaTvb1tois6",
        "colab_type": "text"
      },
      "source": [
        "# Operadores relacionales\n",
        "\n",
        "> [...] Los condicionales nos permiten comprobar condiciones y hacer que nuestro programa se comporte de una forma u otra, que ejecute un fragmento de código u otro, dependiendo de esta condición [...]\n",
        "\n",
        "Del libro Python para todos.\n",
        "\n",
        "Los **condicionales** nos permiten evaluar si una o más condiciones se cumplen, y en base a eso, decir que acción se ejecutará. Esta evaluación es una operación booleana, es decir, solo arrojará **True** o **False**. \n",
        "\n",
        "Hagamos un ejemplo sobre todos los operadores relacionales que existen"
      ]
    },
    {
      "cell_type": "markdown",
      "metadata": {
        "id": "kaaYQG41pZyL",
        "colab_type": "text"
      },
      "source": [
        "Operador igual que \n",
        "\n",
        "\\=="
      ]
    },
    {
      "cell_type": "code",
      "metadata": {
        "id": "JYxfK--4pWXb",
        "colab_type": "code",
        "colab": {
          "base_uri": "https://localhost:8080/",
          "height": 34
        },
        "outputId": "15e942b0-5fc4-4976-aa12-0f1323689edf"
      },
      "source": [
        "3 == 4"
      ],
      "execution_count": 3,
      "outputs": [
        {
          "output_type": "execute_result",
          "data": {
            "text/plain": [
              "False"
            ]
          },
          "metadata": {
            "tags": []
          },
          "execution_count": 3
        }
      ]
    },
    {
      "cell_type": "markdown",
      "metadata": {
        "id": "D3JX0Hjxpfzi",
        "colab_type": "text"
      },
      "source": [
        "Operador distinto que \\\\\n",
        "\\!="
      ]
    },
    {
      "cell_type": "code",
      "metadata": {
        "id": "xJkCpuSFpnl7",
        "colab_type": "code",
        "colab": {
          "base_uri": "https://localhost:8080/",
          "height": 34
        },
        "outputId": "e71a1696-91dc-458f-a3af-7f51517110da"
      },
      "source": [
        "4 != 4"
      ],
      "execution_count": 4,
      "outputs": [
        {
          "output_type": "execute_result",
          "data": {
            "text/plain": [
              "False"
            ]
          },
          "metadata": {
            "tags": []
          },
          "execution_count": 4
        }
      ]
    },
    {
      "cell_type": "markdown",
      "metadata": {
        "id": "ZUb41EqwpstS",
        "colab_type": "text"
      },
      "source": [
        "Operador menor que\n",
        "\n",
        "\\<"
      ]
    },
    {
      "cell_type": "code",
      "metadata": {
        "id": "0yazqW-5qL9L",
        "colab_type": "code",
        "colab": {
          "base_uri": "https://localhost:8080/",
          "height": 34
        },
        "outputId": "6d524e88-61ac-43b0-84d1-52ed0eee211e"
      },
      "source": [
        "3 < 4"
      ],
      "execution_count": 5,
      "outputs": [
        {
          "output_type": "execute_result",
          "data": {
            "text/plain": [
              "True"
            ]
          },
          "metadata": {
            "tags": []
          },
          "execution_count": 5
        }
      ]
    },
    {
      "cell_type": "markdown",
      "metadata": {
        "id": "dLknqnLXqQyt",
        "colab_type": "text"
      },
      "source": [
        "Operador mayor que \\\n",
        "\n",
        "\\>"
      ]
    },
    {
      "cell_type": "code",
      "metadata": {
        "id": "6ytMW_IQqUYV",
        "colab_type": "code",
        "colab": {
          "base_uri": "https://localhost:8080/",
          "height": 34
        },
        "outputId": "83a6035e-9dbe-482a-c8ff-ffbe14dda39c"
      },
      "source": [
        "5 > 4"
      ],
      "execution_count": 6,
      "outputs": [
        {
          "output_type": "execute_result",
          "data": {
            "text/plain": [
              "True"
            ]
          },
          "metadata": {
            "tags": []
          },
          "execution_count": 6
        }
      ]
    },
    {
      "cell_type": "markdown",
      "metadata": {
        "id": "D049tazxqXvS",
        "colab_type": "text"
      },
      "source": [
        "Operador menor o igual que \\\n",
        "\\<="
      ]
    },
    {
      "cell_type": "code",
      "metadata": {
        "id": "YqDaxaIfqdWP",
        "colab_type": "code",
        "colab": {
          "base_uri": "https://localhost:8080/",
          "height": 34
        },
        "outputId": "67f6eb37-7cf4-4376-a32c-c0f24c3e9b55"
      },
      "source": [
        "4 <= 4"
      ],
      "execution_count": 7,
      "outputs": [
        {
          "output_type": "execute_result",
          "data": {
            "text/plain": [
              "True"
            ]
          },
          "metadata": {
            "tags": []
          },
          "execution_count": 7
        }
      ]
    },
    {
      "cell_type": "markdown",
      "metadata": {
        "id": "NMnqtPioqkIQ",
        "colab_type": "text"
      },
      "source": [
        "Operador mayor o igual que\n",
        "\n",
        "\n",
        "\\>="
      ]
    },
    {
      "cell_type": "code",
      "metadata": {
        "id": "l7FLZbgbqoWX",
        "colab_type": "code",
        "colab": {
          "base_uri": "https://localhost:8080/",
          "height": 34
        },
        "outputId": "66e876e2-c456-42c1-ef21-4911a54a10b8"
      },
      "source": [
        "3 >= 2"
      ],
      "execution_count": 8,
      "outputs": [
        {
          "output_type": "execute_result",
          "data": {
            "text/plain": [
              "True"
            ]
          },
          "metadata": {
            "tags": []
          },
          "execution_count": 8
        }
      ]
    },
    {
      "cell_type": "markdown",
      "metadata": {
        "id": "nsi3aJEkkyM7",
        "colab_type": "text"
      },
      "source": [
        "# Tabla de verdades\n",
        "\n",
        "Ahora, esto último nos sirve para evaluar una sola decisión. ¿Pero qué pasa cuando queremos evaluar más de una a la vez? Aquí entran los operadores lógicos, que trabajan con dos valores booleanos y te regresan otro valor booleano. Veamos un ejemplo con dos operadores muy usados, AND y OR (hay más, pero para el ejemplo solo usaremos estos)"
      ]
    },
    {
      "cell_type": "markdown",
      "metadata": {
        "id": "dvfsLNj3suuf",
        "colab_type": "text"
      },
      "source": [
        "## operador lógico AND\n",
        "\n",
        "Este operador solo devuelve un **True** cuando ambos valores de entrada son verdaderos. También se puede ver como el operador lógico de multiplicación, puesto que el único resultado que da 1 es 1x1\n",
        "\n",
        "![AND](https://aristoteles2pc.files.wordpress.com/2011/03/tabla-de-verdad.png?w=225&h=300)"
      ]
    },
    {
      "cell_type": "code",
      "metadata": {
        "id": "dmzGH-aytgEj",
        "colab_type": "code",
        "colab": {
          "base_uri": "https://localhost:8080/",
          "height": 34
        },
        "outputId": "630f7582-f7cb-4b33-9ce8-fa7849bbe6d0"
      },
      "source": [
        "3 < 4 and 4 < 5"
      ],
      "execution_count": 9,
      "outputs": [
        {
          "output_type": "execute_result",
          "data": {
            "text/plain": [
              "True"
            ]
          },
          "metadata": {
            "tags": []
          },
          "execution_count": 9
        }
      ]
    },
    {
      "cell_type": "markdown",
      "metadata": {
        "id": "4p62Jt0DnsvA",
        "colab_type": "text"
      },
      "source": [
        "## Operador lógico OR\n",
        "\n",
        "Este operador devuelve un **True** cuando cualquier valor es 1. Se puede ver como el operador lógico de suma, puesto que siempre y cuando haya al menos un 1, no será 0.\n",
        "\n",
        "![or](https://aristoteles2pc.files.wordpress.com/2011/03/or1.png)"
      ]
    },
    {
      "cell_type": "code",
      "metadata": {
        "id": "7m8erL9AtlfT",
        "colab_type": "code",
        "colab": {
          "base_uri": "https://localhost:8080/",
          "height": 34
        },
        "outputId": "2c82d7b4-b5be-4c89-f19b-23f0b85f2c0e"
      },
      "source": [
        "4 > 5 or 1 > 0"
      ],
      "execution_count": 10,
      "outputs": [
        {
          "output_type": "execute_result",
          "data": {
            "text/plain": [
              "True"
            ]
          },
          "metadata": {
            "tags": []
          },
          "execution_count": 10
        }
      ]
    },
    {
      "cell_type": "code",
      "metadata": {
        "id": "_Eqg3PYxtnuG",
        "colab_type": "code",
        "colab": {}
      },
      "source": [
        ""
      ],
      "execution_count": 0,
      "outputs": []
    },
    {
      "cell_type": "markdown",
      "metadata": {
        "id": "6iA07L7WtwQk",
        "colab_type": "text"
      },
      "source": [
        "# Estructuras de flujo condicionales\n",
        "\n",
        "Ahora, para poder realizar operaciones con estos operadores/condicionales, haremos uso de 3 palabras reservadas que tiene python:\n",
        "* `if` (si)\n",
        "* `else` (si no, si)\n",
        "* `elif` (si no) \\\n",
        "Se entenderá mejor con unos ejemplos"
      ]
    },
    {
      "cell_type": "code",
      "metadata": {
        "id": "EIg3tG2nu5SK",
        "colab_type": "code",
        "colab": {
          "base_uri": "https://localhost:8080/",
          "height": 34
        },
        "outputId": "c7f0e2b5-b189-4bab-ca68-b37be6a10ee1"
      },
      "source": [
        "i = 3\n",
        "if i > 2:\n",
        "  i = 2\n",
        "i"
      ],
      "execution_count": 12,
      "outputs": [
        {
          "output_type": "execute_result",
          "data": {
            "text/plain": [
              "2"
            ]
          },
          "metadata": {
            "tags": []
          },
          "execution_count": 12
        }
      ]
    },
    {
      "cell_type": "markdown",
      "metadata": {
        "id": "jSOphf9KvCYn",
        "colab_type": "text"
      },
      "source": [
        "El código de arriba se puede ver como, i es igual a 3, pero si i es mayor que 2, entonces i ahora será 2. Como es cierto (**True**), pasamos a realizar las operaciones que nos indica (asignar el valor de 2 a i)"
      ]
    },
    {
      "cell_type": "code",
      "metadata": {
        "id": "ayJ-_ZGcvU5i",
        "colab_type": "code",
        "colab": {
          "base_uri": "https://localhost:8080/",
          "height": 34
        },
        "outputId": "b9a7df46-f887-4031-f48f-627d7664ed28"
      },
      "source": [
        "if i == 3:\n",
        "  i = 2\n",
        "else:\n",
        "  i= 3\n",
        "i"
      ],
      "execution_count": 19,
      "outputs": [
        {
          "output_type": "execute_result",
          "data": {
            "text/plain": [
              "2"
            ]
          },
          "metadata": {
            "tags": []
          },
          "execution_count": 19
        }
      ]
    },
    {
      "cell_type": "markdown",
      "metadata": {
        "id": "lAuqNRntxjgM",
        "colab_type": "text"
      },
      "source": [
        "Aquí revisa si i es igual a 3, si es verdadero, ahora i será igual a 2. Pero si i no es igual a 3, hace que i sea igual a 3"
      ]
    },
    {
      "cell_type": "code",
      "metadata": {
        "id": "HBFrALf2vc4E",
        "colab_type": "code",
        "colab": {
          "base_uri": "https://localhost:8080/",
          "height": 34
        },
        "outputId": "e01f8f8e-d2c7-4e8d-d9cd-2a4fc3ec0b65"
      },
      "source": [
        "if i == 3:\n",
        "  i = 2\n",
        "elif i == 2:\n",
        "  i = 4\n",
        "i"
      ],
      "execution_count": 22,
      "outputs": [
        {
          "output_type": "execute_result",
          "data": {
            "text/plain": [
              "4"
            ]
          },
          "metadata": {
            "tags": []
          },
          "execution_count": 22
        }
      ]
    },
    {
      "cell_type": "markdown",
      "metadata": {
        "id": "v_B_14tZx4Rz",
        "colab_type": "text"
      },
      "source": [
        "\n",
        "También, se puede meter un if dentro de otro if"
      ]
    },
    {
      "cell_type": "code",
      "metadata": {
        "id": "zD1bK2X2yKpX",
        "colab_type": "code",
        "colab": {
          "base_uri": "https://localhost:8080/",
          "height": 34
        },
        "outputId": "af6a6f95-e509-43df-9b01-b42bb7257f70"
      },
      "source": [
        "if 3 < 5:\n",
        "  if 3 > 1:\n",
        "    print(\"Asumecha!\")"
      ],
      "execution_count": 23,
      "outputs": [
        {
          "output_type": "stream",
          "text": [
            "Asumecha!\n"
          ],
          "name": "stdout"
        }
      ]
    },
    {
      "cell_type": "markdown",
      "metadata": {
        "id": "_0iG29sDyFp6",
        "colab_type": "text"
      },
      "source": [
        "Les recomiendo mucho jugar con los condicionales para que vean lo que pueden hacer."
      ]
    },
    {
      "cell_type": "markdown",
      "metadata": {
        "id": "l-rJt2YMyVxv",
        "colab_type": "text"
      },
      "source": [
        "# Estructuras de flujo iterativas\n",
        "\n",
        "Aparte de tener condicionales, también tenemos este tipo de estructuras de flujo, que nos permiten ejecutar un mismo código de manera repetida mientras se cumpla una condición. Existen dos estructuras cíclicas en python:\n",
        "* `for`\n",
        "* `while`\n",
        "\n"
      ]
    },
    {
      "cell_type": "markdown",
      "metadata": {
        "id": "nKrhfTotzPA0",
        "colab_type": "text"
      },
      "source": [
        "## Ciclo for\n",
        "\n",
        "Este ciclo nos permite iterar operaciones. Para entenderlo mejor, vamos a hacer algunos ejemplos. Digamos que tenemos una lista de personas, y queremos saludar a todos los de la lista, pero es cansado escribir todos los prints, entonces lo podemos hacer así"
      ]
    },
    {
      "cell_type": "code",
      "metadata": {
        "id": "KL5NJyJdzvsi",
        "colab_type": "code",
        "colab": {
          "base_uri": "https://localhost:8080/",
          "height": 119
        },
        "outputId": "9e04cbb0-21f4-46ac-a92f-75a2bb44504e"
      },
      "source": [
        "lista_personas=[\"pikachu\", \"charmander\", \"squirtle\", \"bulbausar\", \"moltress\", \"zapdos\"]\n",
        "for pokemon in lista_personas:\n",
        "  print(\"Hola \"+pokemon+\"!\")"
      ],
      "execution_count": 27,
      "outputs": [
        {
          "output_type": "stream",
          "text": [
            "Hola pikachu!\n",
            "Hola charmander!\n",
            "Hola squirtle!\n",
            "Hola bulbausar!\n",
            "Hola moltress!\n",
            "Hola zapdos!\n"
          ],
          "name": "stdout"
        }
      ]
    },
    {
      "cell_type": "markdown",
      "metadata": {
        "id": "npxMcqfv0SQo",
        "colab_type": "text"
      },
      "source": [
        "También podemos hacerlo con numeros, digamos que queremos imprimir solo los pares del 50 al 100"
      ]
    },
    {
      "cell_type": "code",
      "metadata": {
        "id": "eeDap5BO0A3O",
        "colab_type": "code",
        "colab": {
          "base_uri": "https://localhost:8080/",
          "height": 867
        },
        "outputId": "1656c0d2-cdd0-4328-b4f5-10e9e62b1177"
      },
      "source": [
        "i=50\n",
        "for valor in range(i,100):\n",
        "  if (valor%2==0):\n",
        "    print(f\"el numero {valor} es par\")\n",
        "  else:\n",
        "    print(f\"El numero {valor} es impar\")"
      ],
      "execution_count": 36,
      "outputs": [
        {
          "output_type": "stream",
          "text": [
            "el numero 50 es par\n",
            "El numero 51 es impar\n",
            "el numero 52 es par\n",
            "El numero 53 es impar\n",
            "el numero 54 es par\n",
            "El numero 55 es impar\n",
            "el numero 56 es par\n",
            "El numero 57 es impar\n",
            "el numero 58 es par\n",
            "El numero 59 es impar\n",
            "el numero 60 es par\n",
            "El numero 61 es impar\n",
            "el numero 62 es par\n",
            "El numero 63 es impar\n",
            "el numero 64 es par\n",
            "El numero 65 es impar\n",
            "el numero 66 es par\n",
            "El numero 67 es impar\n",
            "el numero 68 es par\n",
            "El numero 69 es impar\n",
            "el numero 70 es par\n",
            "El numero 71 es impar\n",
            "el numero 72 es par\n",
            "El numero 73 es impar\n",
            "el numero 74 es par\n",
            "El numero 75 es impar\n",
            "el numero 76 es par\n",
            "El numero 77 es impar\n",
            "el numero 78 es par\n",
            "El numero 79 es impar\n",
            "el numero 80 es par\n",
            "El numero 81 es impar\n",
            "el numero 82 es par\n",
            "El numero 83 es impar\n",
            "el numero 84 es par\n",
            "El numero 85 es impar\n",
            "el numero 86 es par\n",
            "El numero 87 es impar\n",
            "el numero 88 es par\n",
            "El numero 89 es impar\n",
            "el numero 90 es par\n",
            "El numero 91 es impar\n",
            "el numero 92 es par\n",
            "El numero 93 es impar\n",
            "el numero 94 es par\n",
            "El numero 95 es impar\n",
            "el numero 96 es par\n",
            "El numero 97 es impar\n",
            "el numero 98 es par\n",
            "El numero 99 es impar\n"
          ],
          "name": "stdout"
        }
      ]
    },
    {
      "cell_type": "markdown",
      "metadata": {
        "id": "UDyc9xlN1EfQ",
        "colab_type": "text"
      },
      "source": [
        "## Ciclo while\n",
        "\n",
        "Este ciclo siempre se ejecutará mientras se cumpla su condición asociada, veamoslo con un ejemplo."
      ]
    },
    {
      "cell_type": "markdown",
      "metadata": {
        "id": "xdUecCEg1MbW",
        "colab_type": "text"
      },
      "source": [
        "Digamos que quiero comprar dulces, pero para eso necesito dinero, puesto que cada dulce cuesta 5 pesos. Pero digamos que solo compraré dulces mientras tenga más de 50 pesos. entonces:"
      ]
    },
    {
      "cell_type": "code",
      "metadata": {
        "id": "M6XHPJ8i1Lvu",
        "colab_type": "code",
        "colab": {
          "base_uri": "https://localhost:8080/",
          "height": 170
        },
        "outputId": "f8ffa43d-893e-4329-c2c8-fd9e7b655d41"
      },
      "source": [
        "dinero= 67\n",
        "i=0\n",
        "while(dinero>50):\n",
        "  print(\"Yum! te compraste un dulce\")\n",
        "  dinero = dinero -5\n",
        "  print(f\"tu dinero actual es {dinero}\")\n",
        "  i=i+1\n",
        "print(f\"Hijoles, gastaste {i*5} pesos en {i} dulces :(\")"
      ],
      "execution_count": 41,
      "outputs": [
        {
          "output_type": "stream",
          "text": [
            "Yum! te compraste un dulce\n",
            "tu dinero actual es 62\n",
            "Yum! te compraste un dulce\n",
            "tu dinero actual es 57\n",
            "Yum! te compraste un dulce\n",
            "tu dinero actual es 52\n",
            "Yum! te compraste un dulce\n",
            "tu dinero actual es 47\n",
            "Hijoles, gastaste 20 pesos en 4 dulces :(\n"
          ],
          "name": "stdout"
        }
      ]
    },
    {
      "cell_type": "code",
      "metadata": {
        "id": "IWbFqsPl1dAE",
        "colab_type": "code",
        "colab": {}
      },
      "source": [
        ""
      ],
      "execution_count": 0,
      "outputs": []
    }
  ]
}