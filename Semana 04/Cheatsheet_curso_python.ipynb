{
 "cells": [
  {
   "cell_type": "markdown",
   "metadata": {
    "colab_type": "text",
    "id": "6n_rsaZCXoNl"
   },
   "source": [
    "# Sesión 4: Control de flujo 🚀\n",
    "\n",
    "<img src=\"https://futurelab.mx/images/futurelab-landscape.png\" alt=\"Drawing\" width=\"30%\"/> \\\\\n",
    "Índice:\n",
    "1. Introducción.\n",
    "2. Indentación.\n",
    "3. Operadores relacionales\n",
    "4. Tabla de verdades\n",
    "  1. función AND\n",
    "  2. función OR\n",
    "5. Estructuras de control de flujo condicionales\n",
    "6. Estructuras de control de flujo iterativas\n",
    "\n",
    "\n"
   ]
  },
  {
   "cell_type": "markdown",
   "metadata": {
    "colab_type": "text",
    "id": "XgYISxzHe7Pt"
   },
   "source": [
    "# Introducción\n",
    "\n",
    "Una estructura de control de flujo es un bloque de código que permite agrupar varias instrucciones de manera controlada.\n",
    "Podemos ver esto como si nuestro código fuera agua que fluye en una tubería. Pero a veces necesitamos un punto de control en la tubería, algo que separe el flujo en dos ramas si el flujo es muy grande, o algo que se abra cuando se llegue a una cierta presión, etc. \n",
    "Estas estructuras nos sirven para que nuestro código no sea una línea recta, si no que tenga muchas más funcionalidades.\n",
    " Hablaremos principalmente sobre dos:\n",
    "* Estructuras de control condicionales\n",
    "* Estructuras de control iterativas\n",
    "\n",
    "Pero antes de ver esto, necesitamos ver algunos conceptos anteriores"
   ]
  },
  {
   "cell_type": "markdown",
   "metadata": {
    "colab_type": "text",
    "id": "ahkeUMWkgWPC"
   },
   "source": [
    "# Indentación\n",
    "\n",
    "Una característica cool de Python es que no trabaja con {}, para aquellos familiarizados con otros lenguajes de programación, usualmente el \"contenido\" de un ciclo o de un condicional se marca con {}, python lo hace con el uso de dos puntos (:) e indentación (sangría o espacios), veamos el siguiente ejemplo\n",
    "\n"
   ]
  },
  {
   "cell_type": "code",
   "execution_count": 4,
   "metadata": {
    "colab": {},
    "colab_type": "code",
    "id": "xQLjt1Y8jdW1"
   },
   "outputs": [],
   "source": [
    "i=1\n",
    "if(i>3):\n",
    "    pass    \n"
   ]
  },
  {
   "cell_type": "markdown",
   "metadata": {
    "colab_type": "text",
    "id": "0HgeEBRwj6GI"
   },
   "source": [
    "Podemos observar que la estructura es de la siguiente manera:\n",
    "\n",
    "    inicio de la estructura de control:\n",
    "      expresiones"
   ]
  },
  {
   "cell_type": "markdown",
   "metadata": {
    "colab_type": "text",
    "id": "ilasUHK3kfRY"
   },
   "source": [
    "Estas indentaciones se pueden hacer con tabulador, o con espacios (aunque por costumbre se suele usar tabulador, pero cada quien tiene su hábito)"
   ]
  },
  {
   "cell_type": "markdown",
   "metadata": {
    "colab_type": "text",
    "id": "ifxl2Ao3jVlk"
   },
   "source": [
    "\n",
    "![meme](https://pbs.twimg.com/media/EZn_E4tWoAEcnEC?format=png&name=small)\n",
    "\n",
    "\n"
   ]
  },
  {
   "cell_type": "markdown",
   "metadata": {
    "colab_type": "text",
    "id": "kfaTvb1tois6"
   },
   "source": [
    "# Operadores relacionales\n",
    "\n",
    "> [...] Los condicionales nos permiten comprobar condiciones y hacer que nuestro programa se comporte de una forma u otra, que ejecute un fragmento de código u otro, dependiendo de esta condición [...]\n",
    "\n",
    "Del libro Python para todos.\n",
    "\n",
    "Los **condicionales** nos permiten evaluar si una o más condiciones se cumplen, y en base a eso, decir que acción se ejecutará. Esta evaluación es una operación booleana, es decir, solo arrojará **True** o **False**. \n",
    "\n",
    "Hagamos un ejemplo sobre todos los operadores relacionales que existen"
   ]
  },
  {
   "cell_type": "markdown",
   "metadata": {
    "colab_type": "text",
    "id": "kaaYQG41pZyL"
   },
   "source": [
    "Operador igual que \n",
    "\n",
    "\\=="
   ]
  },
  {
   "cell_type": "code",
   "execution_count": 5,
   "metadata": {
    "colab": {
     "base_uri": "https://localhost:8080/",
     "height": 34
    },
    "colab_type": "code",
    "id": "JYxfK--4pWXb",
    "outputId": "15e942b0-5fc4-4976-aa12-0f1323689edf"
   },
   "outputs": [
    {
     "data": {
      "text/plain": [
       "True"
      ]
     },
     "execution_count": 5,
     "metadata": {},
     "output_type": "execute_result"
    }
   ],
   "source": [
    "1 == 1"
   ]
  },
  {
   "cell_type": "markdown",
   "metadata": {
    "colab_type": "text",
    "id": "D3JX0Hjxpfzi"
   },
   "source": [
    "Operador distinto que \\\\\n",
    "\\!="
   ]
  },
  {
   "cell_type": "code",
   "execution_count": 7,
   "metadata": {
    "colab": {
     "base_uri": "https://localhost:8080/",
     "height": 34
    },
    "colab_type": "code",
    "id": "xJkCpuSFpnl7",
    "outputId": "e71a1696-91dc-458f-a3af-7f51517110da"
   },
   "outputs": [
    {
     "data": {
      "text/plain": [
       "True"
      ]
     },
     "execution_count": 7,
     "metadata": {},
     "output_type": "execute_result"
    }
   ],
   "source": [
    "4 != 3"
   ]
  },
  {
   "cell_type": "markdown",
   "metadata": {
    "colab_type": "text",
    "id": "ZUb41EqwpstS"
   },
   "source": [
    "Operador menor que\n",
    "\n",
    "\\<"
   ]
  },
  {
   "cell_type": "code",
   "execution_count": 8,
   "metadata": {
    "colab": {
     "base_uri": "https://localhost:8080/",
     "height": 34
    },
    "colab_type": "code",
    "id": "0yazqW-5qL9L",
    "outputId": "6d524e88-61ac-43b0-84d1-52ed0eee211e"
   },
   "outputs": [
    {
     "data": {
      "text/plain": [
       "True"
      ]
     },
     "execution_count": 8,
     "metadata": {},
     "output_type": "execute_result"
    }
   ],
   "source": [
    "3 < 4"
   ]
  },
  {
   "cell_type": "markdown",
   "metadata": {
    "colab_type": "text",
    "id": "dLknqnLXqQyt"
   },
   "source": [
    "Operador mayor que \\\n",
    "\n",
    "\\>"
   ]
  },
  {
   "cell_type": "code",
   "execution_count": 9,
   "metadata": {
    "colab": {
     "base_uri": "https://localhost:8080/",
     "height": 34
    },
    "colab_type": "code",
    "id": "6ytMW_IQqUYV",
    "outputId": "83a6035e-9dbe-482a-c8ff-ffbe14dda39c"
   },
   "outputs": [
    {
     "data": {
      "text/plain": [
       "False"
      ]
     },
     "execution_count": 9,
     "metadata": {},
     "output_type": "execute_result"
    }
   ],
   "source": [
    "3 > 5"
   ]
  },
  {
   "cell_type": "markdown",
   "metadata": {
    "colab_type": "text",
    "id": "D049tazxqXvS"
   },
   "source": [
    "Operador menor o igual que \\\n",
    "\\<="
   ]
  },
  {
   "cell_type": "code",
   "execution_count": 15,
   "metadata": {
    "colab": {
     "base_uri": "https://localhost:8080/",
     "height": 34
    },
    "colab_type": "code",
    "id": "YqDaxaIfqdWP",
    "outputId": "67f6eb37-7cf4-4376-a32c-c0f24c3e9b55"
   },
   "outputs": [
    {
     "name": "stdin",
     "output_type": "stream",
     "text": [
      "cuántos grados tiene el motor? 150\n"
     ]
    },
    {
     "data": {
      "text/plain": [
       "False"
      ]
     },
     "execution_count": 15,
     "metadata": {},
     "output_type": "execute_result"
    }
   ],
   "source": [
    "i=input(\"cuántos grados tiene el motor?\")\n",
    "int(i) < 150"
   ]
  },
  {
   "cell_type": "markdown",
   "metadata": {
    "colab_type": "text",
    "id": "NMnqtPioqkIQ"
   },
   "source": [
    "Operador mayor o igual que\n",
    "\n",
    "\n",
    "\\>="
   ]
  },
  {
   "cell_type": "code",
   "execution_count": null,
   "metadata": {
    "colab": {
     "base_uri": "https://localhost:8080/",
     "height": 34
    },
    "colab_type": "code",
    "id": "l7FLZbgbqoWX",
    "outputId": "66e876e2-c456-42c1-ef21-4911a54a10b8"
   },
   "outputs": [
    {
     "data": {
      "text/plain": [
       "True"
      ]
     },
     "execution_count": 8,
     "metadata": {
      "tags": []
     },
     "output_type": "execute_result"
    }
   ],
   "source": []
  },
  {
   "cell_type": "markdown",
   "metadata": {
    "colab_type": "text",
    "id": "nsi3aJEkkyM7"
   },
   "source": [
    "# Tabla de verdades\n",
    "\n",
    "Ahora, esto último nos sirve para evaluar una sola decisión. ¿Pero qué pasa cuando queremos evaluar más de una a la vez? Aquí entran los operadores lógicos, que trabajan con dos valores booleanos y te regresan otro valor booleano. Veamos un ejemplo con dos operadores muy usados, AND y OR (hay más, pero para el ejemplo solo usaremos estos)"
   ]
  },
  {
   "cell_type": "markdown",
   "metadata": {
    "colab_type": "text",
    "id": "dvfsLNj3suuf"
   },
   "source": [
    "## operador lógico AND\n",
    "\n",
    "Este operador solo devuelve un **True** cuando ambos valores de entrada son verdaderos. También se puede ver como el operador lógico de multiplicación, puesto que el único resultado que da 1 es 1x1\n",
    "\n",
    "![AND](https://aristoteles2pc.files.wordpress.com/2011/03/tabla-de-verdad.png?w=225&h=300)"
   ]
  },
  {
   "cell_type": "code",
   "execution_count": 17,
   "metadata": {
    "colab": {
     "base_uri": "https://localhost:8080/",
     "height": 34
    },
    "colab_type": "code",
    "id": "dmzGH-aytgEj",
    "outputId": "630f7582-f7cb-4b33-9ce8-fa7849bbe6d0"
   },
   "outputs": [
    {
     "name": "stdin",
     "output_type": "stream",
     "text": [
      "De qué color es el coche? Rojo\n",
      "te puedes permitir el coche? Si\n"
     ]
    },
    {
     "data": {
      "text/plain": [
       "False"
      ]
     },
     "execution_count": 17,
     "metadata": {},
     "output_type": "execute_result"
    }
   ],
   "source": [
    "color = input(\"De qué color es el coche?\")\n",
    "asequible = input(\"te puedes permitir el coche?\")\n",
    "color == 'Azul' and asequible == 'Si'"
   ]
  },
  {
   "cell_type": "markdown",
   "metadata": {
    "colab_type": "text",
    "id": "4p62Jt0DnsvA"
   },
   "source": [
    "## Operador lógico OR\n",
    "\n",
    "Este operador devuelve un **True** cuando cualquier valor es 1. Se puede ver como el operador lógico de suma, puesto que siempre y cuando haya al menos un 1, no será 0.\n",
    "\n",
    "![or](https://aristoteles2pc.files.wordpress.com/2011/03/or1.png)"
   ]
  },
  {
   "cell_type": "code",
   "execution_count": 20,
   "metadata": {
    "colab": {
     "base_uri": "https://localhost:8080/",
     "height": 34
    },
    "colab_type": "code",
    "id": "7m8erL9AtlfT",
    "outputId": "2c82d7b4-b5be-4c89-f19b-23f0b85f2c0e"
   },
   "outputs": [
    {
     "name": "stdin",
     "output_type": "stream",
     "text": [
      "Hay cheetos? Si\n",
      "Hay doritos? Si\n"
     ]
    },
    {
     "data": {
      "text/plain": [
       "True"
      ]
     },
     "execution_count": 20,
     "metadata": {},
     "output_type": "execute_result"
    }
   ],
   "source": [
    "cheetos = input(\"Hay cheetos?\")\n",
    "doritos = input(\"Hay doritos?\")\n",
    "cheetos == 'Si' or doritos == 'Si'"
   ]
  },
  {
   "cell_type": "markdown",
   "metadata": {
    "colab_type": "text",
    "id": "6iA07L7WtwQk"
   },
   "source": [
    "# Estructuras de flujo condicionales\n",
    "\n",
    "Ahora, para poder realizar operaciones con estos operadores/condicionales, haremos uso de 3 palabras reservadas que tiene python:\n",
    "* `if` (si)\n",
    "* `else` (si no, si)\n",
    "* `elif` (si no) \\\n",
    "Se entenderá mejor con unos ejemplos"
   ]
  },
  {
   "cell_type": "code",
   "execution_count": 23,
   "metadata": {
    "colab": {
     "base_uri": "https://localhost:8080/",
     "height": 34
    },
    "colab_type": "code",
    "id": "EIg3tG2nu5SK",
    "outputId": "c7f0e2b5-b189-4bab-ca68-b37be6a10ee1"
   },
   "outputs": [
    {
     "name": "stdin",
     "output_type": "stream",
     "text": [
      "Está despejado el cielo? Medio\n"
     ]
    },
    {
     "name": "stdout",
     "output_type": "stream",
     "text": [
      "Esperar un poco más\n"
     ]
    }
   ],
   "source": [
    "cielo=input('Está despejado el cielo?')\n",
    "if (cielo=='Si'):\n",
    "    print('Ve armando el telescopio')\n",
    "elif (cielo=='Medio'):\n",
    "    print('Esperar un poco más')\n",
    "else:\n",
    "    print('Saco el lolsito con missael')"
   ]
  },
  {
   "cell_type": "code",
   "execution_count": 26,
   "metadata": {},
   "outputs": [
    {
     "name": "stdin",
     "output_type": "stream",
     "text": [
      "Como está la situación del covid? Chida\n"
     ]
    },
    {
     "name": "stdout",
     "output_type": "stream",
     "text": [
      "Puedes ir a verla\n"
     ]
    }
   ],
   "source": [
    "pandemia=input('Como está la situación del covid?')\n",
    "if (pandemia=='fea'):\n",
    "    print('Ni se te ocurra salir')\n",
    "elif (pandemia=='Medio fea'):\n",
    "    print('Con susana distancia')\n",
    "else:\n",
    "    print('Puedes ir a verla')"
   ]
  },
  {
   "cell_type": "markdown",
   "metadata": {
    "colab_type": "text",
    "id": "jSOphf9KvCYn"
   },
   "source": [
    "El código de arriba se puede ver como, i es igual a 3, pero si i es mayor que 2, entonces i ahora será 2. Como es cierto (**True**), pasamos a realizar las operaciones que nos indica (asignar el valor de 2 a i)"
   ]
  },
  {
   "cell_type": "code",
   "execution_count": null,
   "metadata": {
    "colab": {
     "base_uri": "https://localhost:8080/",
     "height": 34
    },
    "colab_type": "code",
    "id": "ayJ-_ZGcvU5i",
    "outputId": "b9a7df46-f887-4031-f48f-627d7664ed28"
   },
   "outputs": [
    {
     "data": {
      "text/plain": [
       "2"
      ]
     },
     "execution_count": 19,
     "metadata": {
      "tags": []
     },
     "output_type": "execute_result"
    }
   ],
   "source": [
    "if i == 3:\n",
    "  i = 2\n",
    "else:\n",
    "  i= 3\n",
    "i"
   ]
  },
  {
   "cell_type": "markdown",
   "metadata": {
    "colab_type": "text",
    "id": "lAuqNRntxjgM"
   },
   "source": [
    "Aquí revisa si i es igual a 3, si es verdadero, ahora i será igual a 2. Pero si i no es igual a 3, hace que i sea igual a 3"
   ]
  },
  {
   "cell_type": "code",
   "execution_count": null,
   "metadata": {
    "colab": {
     "base_uri": "https://localhost:8080/",
     "height": 34
    },
    "colab_type": "code",
    "id": "HBFrALf2vc4E",
    "outputId": "e01f8f8e-d2c7-4e8d-d9cd-2a4fc3ec0b65"
   },
   "outputs": [
    {
     "data": {
      "text/plain": [
       "4"
      ]
     },
     "execution_count": 22,
     "metadata": {
      "tags": []
     },
     "output_type": "execute_result"
    }
   ],
   "source": [
    "if i == 3:\n",
    "  i = 2\n",
    "elif i == 2:\n",
    "  i = 4\n",
    "i"
   ]
  },
  {
   "cell_type": "markdown",
   "metadata": {
    "colab_type": "text",
    "id": "v_B_14tZx4Rz"
   },
   "source": [
    "\n",
    "También, se puede meter un if dentro de otro if"
   ]
  },
  {
   "cell_type": "code",
   "execution_count": null,
   "metadata": {
    "colab": {
     "base_uri": "https://localhost:8080/",
     "height": 34
    },
    "colab_type": "code",
    "id": "zD1bK2X2yKpX",
    "outputId": "af6a6f95-e509-43df-9b01-b42bb7257f70"
   },
   "outputs": [
    {
     "name": "stdout",
     "output_type": "stream",
     "text": [
      "Asumecha!\n"
     ]
    }
   ],
   "source": [
    "if 3 < 5:\n",
    "  if 3 > 1:\n",
    "    print(\"Asumecha!\")"
   ]
  },
  {
   "cell_type": "markdown",
   "metadata": {
    "colab_type": "text",
    "id": "_0iG29sDyFp6"
   },
   "source": [
    "Les recomiendo mucho jugar con los condicionales para que vean lo que pueden hacer."
   ]
  },
  {
   "cell_type": "markdown",
   "metadata": {
    "colab_type": "text",
    "id": "l-rJt2YMyVxv"
   },
   "source": [
    "# Estructuras de flujo iterativas\n",
    "\n",
    "Aparte de tener condicionales, también tenemos este tipo de estructuras de flujo, que nos permiten ejecutar un mismo código de manera repetida mientras se cumpla una condición. Existen dos estructuras cíclicas en python:\n",
    "* `for`\n",
    "* `while`\n",
    "\n"
   ]
  },
  {
   "cell_type": "markdown",
   "metadata": {
    "colab_type": "text",
    "id": "nKrhfTotzPA0"
   },
   "source": [
    "## Ciclo for\n",
    "\n",
    "Este ciclo nos permite iterar operaciones. Para entenderlo mejor, vamos a hacer algunos ejemplos. Digamos que tenemos una lista de personas, y queremos saludar a todos los de la lista, pero es cansado escribir todos los prints, entonces lo podemos hacer así"
   ]
  },
  {
   "cell_type": "code",
   "execution_count": 31,
   "metadata": {
    "colab": {
     "base_uri": "https://localhost:8080/",
     "height": 119
    },
    "colab_type": "code",
    "id": "KL5NJyJdzvsi",
    "outputId": "9e04cbb0-21f4-46ac-a92f-75a2bb44504e"
   },
   "outputs": [
    {
     "name": "stdout",
     "output_type": "stream",
     "text": [
      "Hola Sceptile!\n",
      "Hola Mightyena!\n",
      "Hola Flygon!\n",
      "Hola Salamance!\n",
      "Hola Charizard!\n",
      "Hola Mewtwo!\n"
     ]
    }
   ],
   "source": [
    "lista_pokemon=['Sceptile','Mightyena','Flygon','Salamance','Charizard','Mewtwo']\n",
    "for pokemon in lista_pokemon:\n",
    "    print(f\"Hola {pokemon}!\")"
   ]
  },
  {
   "cell_type": "markdown",
   "metadata": {
    "colab_type": "text",
    "id": "npxMcqfv0SQo"
   },
   "source": [
    "También podemos hacerlo con numeros, digamos que queremos imprimir solo los pares del 50 al 100"
   ]
  },
  {
   "cell_type": "code",
   "execution_count": 34,
   "metadata": {
    "colab": {
     "base_uri": "https://localhost:8080/",
     "height": 867
    },
    "colab_type": "code",
    "id": "eeDap5BO0A3O",
    "outputId": "1656c0d2-cdd0-4328-b4f5-10e9e62b1177"
   },
   "outputs": [
    {
     "name": "stdout",
     "output_type": "stream",
     "text": [
      "El numero 0 es multiplo de 3\n",
      "El numero 3 es multiplo de 3\n",
      "El numero 6 es multiplo de 3\n",
      "El numero 9 es multiplo de 3\n",
      "El numero 12 es multiplo de 3\n",
      "El numero 15 es multiplo de 3\n",
      "El numero 18 es multiplo de 3\n",
      "El numero 21 es multiplo de 3\n",
      "El numero 24 es multiplo de 3\n",
      "El numero 27 es multiplo de 3\n",
      "El numero 30 es multiplo de 3\n",
      "El numero 33 es multiplo de 3\n",
      "El numero 36 es multiplo de 3\n",
      "El numero 39 es multiplo de 3\n",
      "El numero 42 es multiplo de 3\n",
      "El numero 45 es multiplo de 3\n",
      "El numero 48 es multiplo de 3\n",
      "El numero 51 es multiplo de 3\n",
      "El numero 54 es multiplo de 3\n",
      "El numero 57 es multiplo de 3\n",
      "El numero 60 es multiplo de 3\n",
      "El numero 63 es multiplo de 3\n",
      "El numero 66 es multiplo de 3\n",
      "El numero 69 es multiplo de 3\n",
      "El numero 72 es multiplo de 3\n",
      "El numero 75 es multiplo de 3\n",
      "El numero 78 es multiplo de 3\n",
      "El numero 81 es multiplo de 3\n",
      "El numero 84 es multiplo de 3\n",
      "El numero 87 es multiplo de 3\n",
      "El numero 90 es multiplo de 3\n",
      "El numero 93 es multiplo de 3\n",
      "El numero 96 es multiplo de 3\n",
      "El numero 99 es multiplo de 3\n"
     ]
    }
   ],
   "source": [
    "i=0\n",
    "for numero in range(i,101):\n",
    "    if(numero%3==0):\n",
    "        print(f\"El numero {numero} es multiplo de 3\")"
   ]
  },
  {
   "cell_type": "markdown",
   "metadata": {
    "colab_type": "text",
    "id": "UDyc9xlN1EfQ"
   },
   "source": [
    "## Ciclo while\n",
    "\n",
    "Este ciclo siempre se ejecutará mientras se cumpla su condición asociada, veamoslo con un ejemplo."
   ]
  },
  {
   "cell_type": "markdown",
   "metadata": {
    "colab_type": "text",
    "id": "xdUecCEg1MbW"
   },
   "source": [
    "Digamos que quiero comprar dulces, pero para eso necesito dinero, puesto que cada dulce cuesta 5 pesos. Pero digamos que solo compraré dulces mientras tenga más de 50 pesos. entonces:"
   ]
  },
  {
   "cell_type": "code",
   "execution_count": 38,
   "metadata": {
    "colab": {
     "base_uri": "https://localhost:8080/",
     "height": 170
    },
    "colab_type": "code",
    "id": "M6XHPJ8i1Lvu",
    "outputId": "f8ffa43d-893e-4329-c2c8-fd9e7b655d41"
   },
   "outputs": [
    {
     "name": "stdout",
     "output_type": "stream",
     "text": [
      "Te compraste un arizona de frambuesa y te quedan 188 pesos, chale\n",
      "Te compraste un arizona de frambuesa y te quedan 176 pesos, chale\n",
      "Te compraste un arizona de frambuesa y te quedan 164 pesos, chale\n",
      "Te compraste un arizona de frambuesa y te quedan 152 pesos, chale\n",
      "Te compraste un arizona de frambuesa y te quedan 140 pesos, chale\n",
      "Te compraste un arizona de frambuesa y te quedan 128 pesos, chale\n",
      "Te compraste un arizona de frambuesa y te quedan 116 pesos, chale\n",
      "Te compraste un arizona de frambuesa y te quedan 104 pesos, chale\n",
      "Te compraste un arizona de frambuesa y te quedan 92 pesos, chale\n",
      "Te compraste un arizona de frambuesa y te quedan 80 pesos, chale\n",
      "Te compraste un arizona de frambuesa y te quedan 68 pesos, chale\n",
      "Te compraste un arizona de frambuesa y te quedan 56 pesos, chale\n",
      "Te compraste un arizona de frambuesa y te quedan 44 pesos, chale\n",
      "Al final te compraste 13 arizonas y gastaste en total 156 pesos\n"
     ]
    }
   ],
   "source": [
    "dinero= 200\n",
    "i=0\n",
    "while(dinero>50):\n",
    "    dinero=dinero-12\n",
    "    print(f\"Te compraste un arizona de frambuesa y te quedan {dinero} pesos, chale\")\n",
    "    i+=1\n",
    "print(f\"Al final te compraste {i} arizonas y gastaste en total {i*12} pesos\")"
   ]
  },
  {
   "cell_type": "markdown",
   "metadata": {
    "colab": {},
    "colab_type": "code",
    "id": "FrfLOGdpNwKA"
   },
   "source": [
    "# List comprehension\n",
    "\n",
    "Python nos permite crear listas en una sola línea por medio de ciclos, y esto nos facilita mucho el trabajo y la legibilidad del código (para cuando su código vaya a ser leido por otras personas)"
   ]
  },
  {
   "cell_type": "code",
   "execution_count": 45,
   "metadata": {},
   "outputs": [
    {
     "name": "stdin",
     "output_type": "stream",
     "text": [
      " 1 2 3 4 5\n"
     ]
    }
   ],
   "source": [
    "texto=input()\n",
    "lista=[int(x) for x in texto.split()]\n"
   ]
  },
  {
   "cell_type": "code",
   "execution_count": 53,
   "metadata": {},
   "outputs": [
    {
     "data": {
      "text/plain": [
       "[3, 6, 9, 12, 15]"
      ]
     },
     "execution_count": 53,
     "metadata": {},
     "output_type": "execute_result"
    }
   ],
   "source": [
    "triple_lista=[x*3 for x in lista]\n",
    "triple_lista"
   ]
  },
  {
   "cell_type": "code",
   "execution_count": null,
   "metadata": {},
   "outputs": [],
   "source": []
  }
 ],
 "metadata": {
  "colab": {
   "name": "Cheatsheet curso python.ipynb",
   "provenance": []
  },
  "kernelspec": {
   "display_name": "Python 3",
   "language": "python",
   "name": "python3"
  },
  "language_info": {
   "codemirror_mode": {
    "name": "ipython",
    "version": 3
   },
   "file_extension": ".py",
   "mimetype": "text/x-python",
   "name": "python",
   "nbconvert_exporter": "python",
   "pygments_lexer": "ipython3",
   "version": "3.7.6"
  }
 },
 "nbformat": 4,
 "nbformat_minor": 4
}
